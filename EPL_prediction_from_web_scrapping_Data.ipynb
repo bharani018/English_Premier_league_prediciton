{
  "nbformat": 4,
  "nbformat_minor": 0,
  "metadata": {
    "colab": {
      "provenance": []
    },
    "kernelspec": {
      "name": "python3",
      "display_name": "Python 3"
    },
    "language_info": {
      "name": "python"
    }
  },
  "cells": [
    {
      "cell_type": "code",
      "execution_count": 155,
      "metadata": {
        "id": "Y_CKPu7sVAoo"
      },
      "outputs": [],
      "source": [
        "import pandas as pd\n"
      ]
    },
    {
      "cell_type": "code",
      "source": [
        "data = pd.read_csv('/content/drive/MyDrive/matches.csv')"
      ],
      "metadata": {
        "id": "cOXqmno6VHQJ"
      },
      "execution_count": 156,
      "outputs": []
    },
    {
      "cell_type": "code",
      "source": [
        "data1  = data[data['season'] == '2023-24']\n",
        "data2 = data[data['season'] == '2022-23']"
      ],
      "metadata": {
        "id": "nYnvq1N1VOIl"
      },
      "execution_count": 157,
      "outputs": []
    },
    {
      "cell_type": "code",
      "source": [
        "data1 = data1.drop(columns = 'season')"
      ],
      "metadata": {
        "id": "bDUbIVMZlP3l"
      },
      "execution_count": 158,
      "outputs": []
    },
    {
      "cell_type": "code",
      "source": [
        "data1.head(3)"
      ],
      "metadata": {
        "colab": {
          "base_uri": "https://localhost:8080/",
          "height": 279
        },
        "id": "QGYmaZFtVfY0",
        "outputId": "1a683110-6a24-42dd-dba6-4c673d436ffc"
      },
      "execution_count": 159,
      "outputs": [
        {
          "output_type": "execute_result",
          "data": {
            "text/plain": [
              "   Unnamed: 0       date   time            comp        round  day venue  \\\n",
              "0           1  8/11/2023  20:00  Premier League  Matchweek 1  Fri  Away   \n",
              "1           3  8/19/2023  20:00  Premier League  Matchweek 2  Sat  Home   \n",
              "2           4  8/27/2023  14:00  Premier League  Matchweek 3  Sun  Away   \n",
              "\n",
              "  result   gf   ga  ...   xg  xga  poss  attendance          captain  \\\n",
              "0      W  3.0  0.0  ...  1.9  0.3  65.0     21572.0  Kevin De Bruyne   \n",
              "1      W  1.0  0.0  ...  1.0  0.3  59.0     53419.0      Kyle Walker   \n",
              "2      W  2.0  1.0  ...  3.5  0.7  79.0     31336.0      Kyle Walker   \n",
              "\n",
              "  formation         referee  match report notes             team  \n",
              "0   4-2-3-1    Craig Pawson  Match Report   NaN  Manchester City  \n",
              "1   4-2-3-1    Robert Jones  Match Report   NaN  Manchester City  \n",
              "2   4-2-3-1  Jarred Gillett  Match Report   NaN  Manchester City  \n",
              "\n",
              "[3 rows x 21 columns]"
            ],
            "text/html": [
              "\n",
              "  <div id=\"df-1cbbe1f2-7fba-4fcd-b602-7ae2278ea5bf\" class=\"colab-df-container\">\n",
              "    <div>\n",
              "<style scoped>\n",
              "    .dataframe tbody tr th:only-of-type {\n",
              "        vertical-align: middle;\n",
              "    }\n",
              "\n",
              "    .dataframe tbody tr th {\n",
              "        vertical-align: top;\n",
              "    }\n",
              "\n",
              "    .dataframe thead th {\n",
              "        text-align: right;\n",
              "    }\n",
              "</style>\n",
              "<table border=\"1\" class=\"dataframe\">\n",
              "  <thead>\n",
              "    <tr style=\"text-align: right;\">\n",
              "      <th></th>\n",
              "      <th>Unnamed: 0</th>\n",
              "      <th>date</th>\n",
              "      <th>time</th>\n",
              "      <th>comp</th>\n",
              "      <th>round</th>\n",
              "      <th>day</th>\n",
              "      <th>venue</th>\n",
              "      <th>result</th>\n",
              "      <th>gf</th>\n",
              "      <th>ga</th>\n",
              "      <th>...</th>\n",
              "      <th>xg</th>\n",
              "      <th>xga</th>\n",
              "      <th>poss</th>\n",
              "      <th>attendance</th>\n",
              "      <th>captain</th>\n",
              "      <th>formation</th>\n",
              "      <th>referee</th>\n",
              "      <th>match report</th>\n",
              "      <th>notes</th>\n",
              "      <th>team</th>\n",
              "    </tr>\n",
              "  </thead>\n",
              "  <tbody>\n",
              "    <tr>\n",
              "      <th>0</th>\n",
              "      <td>1</td>\n",
              "      <td>8/11/2023</td>\n",
              "      <td>20:00</td>\n",
              "      <td>Premier League</td>\n",
              "      <td>Matchweek 1</td>\n",
              "      <td>Fri</td>\n",
              "      <td>Away</td>\n",
              "      <td>W</td>\n",
              "      <td>3.0</td>\n",
              "      <td>0.0</td>\n",
              "      <td>...</td>\n",
              "      <td>1.9</td>\n",
              "      <td>0.3</td>\n",
              "      <td>65.0</td>\n",
              "      <td>21572.0</td>\n",
              "      <td>Kevin De Bruyne</td>\n",
              "      <td>4-2-3-1</td>\n",
              "      <td>Craig Pawson</td>\n",
              "      <td>Match Report</td>\n",
              "      <td>NaN</td>\n",
              "      <td>Manchester City</td>\n",
              "    </tr>\n",
              "    <tr>\n",
              "      <th>1</th>\n",
              "      <td>3</td>\n",
              "      <td>8/19/2023</td>\n",
              "      <td>20:00</td>\n",
              "      <td>Premier League</td>\n",
              "      <td>Matchweek 2</td>\n",
              "      <td>Sat</td>\n",
              "      <td>Home</td>\n",
              "      <td>W</td>\n",
              "      <td>1.0</td>\n",
              "      <td>0.0</td>\n",
              "      <td>...</td>\n",
              "      <td>1.0</td>\n",
              "      <td>0.3</td>\n",
              "      <td>59.0</td>\n",
              "      <td>53419.0</td>\n",
              "      <td>Kyle Walker</td>\n",
              "      <td>4-2-3-1</td>\n",
              "      <td>Robert Jones</td>\n",
              "      <td>Match Report</td>\n",
              "      <td>NaN</td>\n",
              "      <td>Manchester City</td>\n",
              "    </tr>\n",
              "    <tr>\n",
              "      <th>2</th>\n",
              "      <td>4</td>\n",
              "      <td>8/27/2023</td>\n",
              "      <td>14:00</td>\n",
              "      <td>Premier League</td>\n",
              "      <td>Matchweek 3</td>\n",
              "      <td>Sun</td>\n",
              "      <td>Away</td>\n",
              "      <td>W</td>\n",
              "      <td>2.0</td>\n",
              "      <td>1.0</td>\n",
              "      <td>...</td>\n",
              "      <td>3.5</td>\n",
              "      <td>0.7</td>\n",
              "      <td>79.0</td>\n",
              "      <td>31336.0</td>\n",
              "      <td>Kyle Walker</td>\n",
              "      <td>4-2-3-1</td>\n",
              "      <td>Jarred Gillett</td>\n",
              "      <td>Match Report</td>\n",
              "      <td>NaN</td>\n",
              "      <td>Manchester City</td>\n",
              "    </tr>\n",
              "  </tbody>\n",
              "</table>\n",
              "<p>3 rows × 21 columns</p>\n",
              "</div>\n",
              "    <div class=\"colab-df-buttons\">\n",
              "\n",
              "  <div class=\"colab-df-container\">\n",
              "    <button class=\"colab-df-convert\" onclick=\"convertToInteractive('df-1cbbe1f2-7fba-4fcd-b602-7ae2278ea5bf')\"\n",
              "            title=\"Convert this dataframe to an interactive table.\"\n",
              "            style=\"display:none;\">\n",
              "\n",
              "  <svg xmlns=\"http://www.w3.org/2000/svg\" height=\"24px\" viewBox=\"0 -960 960 960\">\n",
              "    <path d=\"M120-120v-720h720v720H120Zm60-500h600v-160H180v160Zm220 220h160v-160H400v160Zm0 220h160v-160H400v160ZM180-400h160v-160H180v160Zm440 0h160v-160H620v160ZM180-180h160v-160H180v160Zm440 0h160v-160H620v160Z\"/>\n",
              "  </svg>\n",
              "    </button>\n",
              "\n",
              "  <style>\n",
              "    .colab-df-container {\n",
              "      display:flex;\n",
              "      gap: 12px;\n",
              "    }\n",
              "\n",
              "    .colab-df-convert {\n",
              "      background-color: #E8F0FE;\n",
              "      border: none;\n",
              "      border-radius: 50%;\n",
              "      cursor: pointer;\n",
              "      display: none;\n",
              "      fill: #1967D2;\n",
              "      height: 32px;\n",
              "      padding: 0 0 0 0;\n",
              "      width: 32px;\n",
              "    }\n",
              "\n",
              "    .colab-df-convert:hover {\n",
              "      background-color: #E2EBFA;\n",
              "      box-shadow: 0px 1px 2px rgba(60, 64, 67, 0.3), 0px 1px 3px 1px rgba(60, 64, 67, 0.15);\n",
              "      fill: #174EA6;\n",
              "    }\n",
              "\n",
              "    .colab-df-buttons div {\n",
              "      margin-bottom: 4px;\n",
              "    }\n",
              "\n",
              "    [theme=dark] .colab-df-convert {\n",
              "      background-color: #3B4455;\n",
              "      fill: #D2E3FC;\n",
              "    }\n",
              "\n",
              "    [theme=dark] .colab-df-convert:hover {\n",
              "      background-color: #434B5C;\n",
              "      box-shadow: 0px 1px 3px 1px rgba(0, 0, 0, 0.15);\n",
              "      filter: drop-shadow(0px 1px 2px rgba(0, 0, 0, 0.3));\n",
              "      fill: #FFFFFF;\n",
              "    }\n",
              "  </style>\n",
              "\n",
              "    <script>\n",
              "      const buttonEl =\n",
              "        document.querySelector('#df-1cbbe1f2-7fba-4fcd-b602-7ae2278ea5bf button.colab-df-convert');\n",
              "      buttonEl.style.display =\n",
              "        google.colab.kernel.accessAllowed ? 'block' : 'none';\n",
              "\n",
              "      async function convertToInteractive(key) {\n",
              "        const element = document.querySelector('#df-1cbbe1f2-7fba-4fcd-b602-7ae2278ea5bf');\n",
              "        const dataTable =\n",
              "          await google.colab.kernel.invokeFunction('convertToInteractive',\n",
              "                                                    [key], {});\n",
              "        if (!dataTable) return;\n",
              "\n",
              "        const docLinkHtml = 'Like what you see? Visit the ' +\n",
              "          '<a target=\"_blank\" href=https://colab.research.google.com/notebooks/data_table.ipynb>data table notebook</a>'\n",
              "          + ' to learn more about interactive tables.';\n",
              "        element.innerHTML = '';\n",
              "        dataTable['output_type'] = 'display_data';\n",
              "        await google.colab.output.renderOutput(dataTable, element);\n",
              "        const docLink = document.createElement('div');\n",
              "        docLink.innerHTML = docLinkHtml;\n",
              "        element.appendChild(docLink);\n",
              "      }\n",
              "    </script>\n",
              "  </div>\n",
              "\n",
              "\n",
              "<div id=\"df-45f5555c-e85d-475b-841d-341df4c5ff71\">\n",
              "  <button class=\"colab-df-quickchart\" onclick=\"quickchart('df-45f5555c-e85d-475b-841d-341df4c5ff71')\"\n",
              "            title=\"Suggest charts\"\n",
              "            style=\"display:none;\">\n",
              "\n",
              "<svg xmlns=\"http://www.w3.org/2000/svg\" height=\"24px\"viewBox=\"0 0 24 24\"\n",
              "     width=\"24px\">\n",
              "    <g>\n",
              "        <path d=\"M19 3H5c-1.1 0-2 .9-2 2v14c0 1.1.9 2 2 2h14c1.1 0 2-.9 2-2V5c0-1.1-.9-2-2-2zM9 17H7v-7h2v7zm4 0h-2V7h2v10zm4 0h-2v-4h2v4z\"/>\n",
              "    </g>\n",
              "</svg>\n",
              "  </button>\n",
              "\n",
              "<style>\n",
              "  .colab-df-quickchart {\n",
              "      --bg-color: #E8F0FE;\n",
              "      --fill-color: #1967D2;\n",
              "      --hover-bg-color: #E2EBFA;\n",
              "      --hover-fill-color: #174EA6;\n",
              "      --disabled-fill-color: #AAA;\n",
              "      --disabled-bg-color: #DDD;\n",
              "  }\n",
              "\n",
              "  [theme=dark] .colab-df-quickchart {\n",
              "      --bg-color: #3B4455;\n",
              "      --fill-color: #D2E3FC;\n",
              "      --hover-bg-color: #434B5C;\n",
              "      --hover-fill-color: #FFFFFF;\n",
              "      --disabled-bg-color: #3B4455;\n",
              "      --disabled-fill-color: #666;\n",
              "  }\n",
              "\n",
              "  .colab-df-quickchart {\n",
              "    background-color: var(--bg-color);\n",
              "    border: none;\n",
              "    border-radius: 50%;\n",
              "    cursor: pointer;\n",
              "    display: none;\n",
              "    fill: var(--fill-color);\n",
              "    height: 32px;\n",
              "    padding: 0;\n",
              "    width: 32px;\n",
              "  }\n",
              "\n",
              "  .colab-df-quickchart:hover {\n",
              "    background-color: var(--hover-bg-color);\n",
              "    box-shadow: 0 1px 2px rgba(60, 64, 67, 0.3), 0 1px 3px 1px rgba(60, 64, 67, 0.15);\n",
              "    fill: var(--button-hover-fill-color);\n",
              "  }\n",
              "\n",
              "  .colab-df-quickchart-complete:disabled,\n",
              "  .colab-df-quickchart-complete:disabled:hover {\n",
              "    background-color: var(--disabled-bg-color);\n",
              "    fill: var(--disabled-fill-color);\n",
              "    box-shadow: none;\n",
              "  }\n",
              "\n",
              "  .colab-df-spinner {\n",
              "    border: 2px solid var(--fill-color);\n",
              "    border-color: transparent;\n",
              "    border-bottom-color: var(--fill-color);\n",
              "    animation:\n",
              "      spin 1s steps(1) infinite;\n",
              "  }\n",
              "\n",
              "  @keyframes spin {\n",
              "    0% {\n",
              "      border-color: transparent;\n",
              "      border-bottom-color: var(--fill-color);\n",
              "      border-left-color: var(--fill-color);\n",
              "    }\n",
              "    20% {\n",
              "      border-color: transparent;\n",
              "      border-left-color: var(--fill-color);\n",
              "      border-top-color: var(--fill-color);\n",
              "    }\n",
              "    30% {\n",
              "      border-color: transparent;\n",
              "      border-left-color: var(--fill-color);\n",
              "      border-top-color: var(--fill-color);\n",
              "      border-right-color: var(--fill-color);\n",
              "    }\n",
              "    40% {\n",
              "      border-color: transparent;\n",
              "      border-right-color: var(--fill-color);\n",
              "      border-top-color: var(--fill-color);\n",
              "    }\n",
              "    60% {\n",
              "      border-color: transparent;\n",
              "      border-right-color: var(--fill-color);\n",
              "    }\n",
              "    80% {\n",
              "      border-color: transparent;\n",
              "      border-right-color: var(--fill-color);\n",
              "      border-bottom-color: var(--fill-color);\n",
              "    }\n",
              "    90% {\n",
              "      border-color: transparent;\n",
              "      border-bottom-color: var(--fill-color);\n",
              "    }\n",
              "  }\n",
              "</style>\n",
              "\n",
              "  <script>\n",
              "    async function quickchart(key) {\n",
              "      const quickchartButtonEl =\n",
              "        document.querySelector('#' + key + ' button');\n",
              "      quickchartButtonEl.disabled = true;  // To prevent multiple clicks.\n",
              "      quickchartButtonEl.classList.add('colab-df-spinner');\n",
              "      try {\n",
              "        const charts = await google.colab.kernel.invokeFunction(\n",
              "            'suggestCharts', [key], {});\n",
              "      } catch (error) {\n",
              "        console.error('Error during call to suggestCharts:', error);\n",
              "      }\n",
              "      quickchartButtonEl.classList.remove('colab-df-spinner');\n",
              "      quickchartButtonEl.classList.add('colab-df-quickchart-complete');\n",
              "    }\n",
              "    (() => {\n",
              "      let quickchartButtonEl =\n",
              "        document.querySelector('#df-45f5555c-e85d-475b-841d-341df4c5ff71 button');\n",
              "      quickchartButtonEl.style.display =\n",
              "        google.colab.kernel.accessAllowed ? 'block' : 'none';\n",
              "    })();\n",
              "  </script>\n",
              "</div>\n",
              "\n",
              "    </div>\n",
              "  </div>\n"
            ],
            "application/vnd.google.colaboratory.intrinsic+json": {
              "type": "dataframe",
              "variable_name": "data1"
            }
          },
          "metadata": {},
          "execution_count": 159
        }
      ]
    },
    {
      "cell_type": "code",
      "source": [
        "data1.dtypes"
      ],
      "metadata": {
        "colab": {
          "base_uri": "https://localhost:8080/"
        },
        "id": "MVRtiEhzWAB6",
        "outputId": "87212ce7-fc6c-409d-dab6-647849166652"
      },
      "execution_count": 160,
      "outputs": [
        {
          "output_type": "execute_result",
          "data": {
            "text/plain": [
              "Unnamed: 0        int64\n",
              "date             object\n",
              "time             object\n",
              "comp             object\n",
              "round            object\n",
              "day              object\n",
              "venue            object\n",
              "result           object\n",
              "gf              float64\n",
              "ga              float64\n",
              "opponent         object\n",
              "xg              float64\n",
              "xga             float64\n",
              "poss            float64\n",
              "attendance      float64\n",
              "captain          object\n",
              "formation        object\n",
              "referee          object\n",
              "match report     object\n",
              "notes           float64\n",
              "team             object\n",
              "dtype: object"
            ]
          },
          "metadata": {},
          "execution_count": 160
        }
      ]
    },
    {
      "cell_type": "code",
      "source": [
        "data1['date'] = pd.to_datetime(data1['date'], format = '%m/%d/%Y')"
      ],
      "metadata": {
        "id": "qSBcOOqSWW4Z"
      },
      "execution_count": 161,
      "outputs": []
    },
    {
      "cell_type": "code",
      "source": [
        "data1.dtypes"
      ],
      "metadata": {
        "colab": {
          "base_uri": "https://localhost:8080/"
        },
        "id": "ikrDvITCV0K9",
        "outputId": "c2a361d9-f435-4f08-c666-fb4a780271cb"
      },
      "execution_count": 163,
      "outputs": [
        {
          "output_type": "execute_result",
          "data": {
            "text/plain": [
              "Unnamed: 0               int64\n",
              "date            datetime64[ns]\n",
              "time                    object\n",
              "comp                    object\n",
              "round                   object\n",
              "day                     object\n",
              "venue                   object\n",
              "result                  object\n",
              "gf                     float64\n",
              "ga                     float64\n",
              "opponent                object\n",
              "xg                     float64\n",
              "xga                    float64\n",
              "poss                   float64\n",
              "attendance             float64\n",
              "captain                 object\n",
              "formation               object\n",
              "referee                 object\n",
              "match report            object\n",
              "notes                  float64\n",
              "team                    object\n",
              "dtype: object"
            ]
          },
          "metadata": {},
          "execution_count": 163
        }
      ]
    },
    {
      "cell_type": "code",
      "source": [
        "data1['Matchup'] = data1['opponent'] +' vs '+ data1['team']\n"
      ],
      "metadata": {
        "id": "_gtRzdp2XTpO"
      },
      "execution_count": 164,
      "outputs": []
    },
    {
      "cell_type": "code",
      "source": [
        "\n",
        "new_df = data1.drop_duplicates(subset=['date', 'time', 'round', 'day', 'referee'])\n",
        "\n"
      ],
      "metadata": {
        "id": "UHqlTRHiYF7M"
      },
      "execution_count": 165,
      "outputs": []
    },
    {
      "cell_type": "code",
      "source": [
        "new_df.head()"
      ],
      "metadata": {
        "colab": {
          "base_uri": "https://localhost:8080/",
          "height": 498
        },
        "id": "xtDhnzbRhP0u",
        "outputId": "4a245477-f633-4293-d7ff-b3dd4e524395"
      },
      "execution_count": 166,
      "outputs": [
        {
          "output_type": "execute_result",
          "data": {
            "text/plain": [
              "   Unnamed: 0       date   time            comp        round  day venue  \\\n",
              "0           1 2023-08-11  20:00  Premier League  Matchweek 1  Fri  Away   \n",
              "1           3 2023-08-19  20:00  Premier League  Matchweek 2  Sat  Home   \n",
              "2           4 2023-08-27  14:00  Premier League  Matchweek 3  Sun  Away   \n",
              "3           5 2023-09-02  15:00  Premier League  Matchweek 4  Sat  Home   \n",
              "4           6 2023-09-16  15:00  Premier League  Matchweek 5  Sat  Away   \n",
              "\n",
              "  result   gf   ga  ...  xga  poss  attendance          captain  formation  \\\n",
              "0      W  3.0  0.0  ...  0.3  65.0     21572.0  Kevin De Bruyne    4-2-3-1   \n",
              "1      W  1.0  0.0  ...  0.3  59.0     53419.0      Kyle Walker    4-2-3-1   \n",
              "2      W  2.0  1.0  ...  0.7  79.0     31336.0      Kyle Walker    4-2-3-1   \n",
              "3      W  5.0  1.0  ...  1.4  68.0     52899.0      Kyle Walker    4-2-3-1   \n",
              "4      W  3.0  1.0  ...  0.9  68.0     62475.0      Kyle Walker    4-2-3-1   \n",
              "\n",
              "          referee  match report notes             team  \\\n",
              "0    Craig Pawson  Match Report   NaN  Manchester City   \n",
              "1    Robert Jones  Match Report   NaN  Manchester City   \n",
              "2  Jarred Gillett  Match Report   NaN  Manchester City   \n",
              "3  Michael Oliver  Match Report   NaN  Manchester City   \n",
              "4     Andy Madley  Match Report   NaN  Manchester City   \n",
              "\n",
              "                            Matchup  \n",
              "0        Burnley vs Manchester City  \n",
              "1  Newcastle Utd vs Manchester City  \n",
              "2  Sheffield Utd vs Manchester City  \n",
              "3         Fulham vs Manchester City  \n",
              "4       West Ham vs Manchester City  \n",
              "\n",
              "[5 rows x 22 columns]"
            ],
            "text/html": [
              "\n",
              "  <div id=\"df-a393f403-fb48-4910-9da3-6683cc10fb7c\" class=\"colab-df-container\">\n",
              "    <div>\n",
              "<style scoped>\n",
              "    .dataframe tbody tr th:only-of-type {\n",
              "        vertical-align: middle;\n",
              "    }\n",
              "\n",
              "    .dataframe tbody tr th {\n",
              "        vertical-align: top;\n",
              "    }\n",
              "\n",
              "    .dataframe thead th {\n",
              "        text-align: right;\n",
              "    }\n",
              "</style>\n",
              "<table border=\"1\" class=\"dataframe\">\n",
              "  <thead>\n",
              "    <tr style=\"text-align: right;\">\n",
              "      <th></th>\n",
              "      <th>Unnamed: 0</th>\n",
              "      <th>date</th>\n",
              "      <th>time</th>\n",
              "      <th>comp</th>\n",
              "      <th>round</th>\n",
              "      <th>day</th>\n",
              "      <th>venue</th>\n",
              "      <th>result</th>\n",
              "      <th>gf</th>\n",
              "      <th>ga</th>\n",
              "      <th>...</th>\n",
              "      <th>xga</th>\n",
              "      <th>poss</th>\n",
              "      <th>attendance</th>\n",
              "      <th>captain</th>\n",
              "      <th>formation</th>\n",
              "      <th>referee</th>\n",
              "      <th>match report</th>\n",
              "      <th>notes</th>\n",
              "      <th>team</th>\n",
              "      <th>Matchup</th>\n",
              "    </tr>\n",
              "  </thead>\n",
              "  <tbody>\n",
              "    <tr>\n",
              "      <th>0</th>\n",
              "      <td>1</td>\n",
              "      <td>2023-08-11</td>\n",
              "      <td>20:00</td>\n",
              "      <td>Premier League</td>\n",
              "      <td>Matchweek 1</td>\n",
              "      <td>Fri</td>\n",
              "      <td>Away</td>\n",
              "      <td>W</td>\n",
              "      <td>3.0</td>\n",
              "      <td>0.0</td>\n",
              "      <td>...</td>\n",
              "      <td>0.3</td>\n",
              "      <td>65.0</td>\n",
              "      <td>21572.0</td>\n",
              "      <td>Kevin De Bruyne</td>\n",
              "      <td>4-2-3-1</td>\n",
              "      <td>Craig Pawson</td>\n",
              "      <td>Match Report</td>\n",
              "      <td>NaN</td>\n",
              "      <td>Manchester City</td>\n",
              "      <td>Burnley vs Manchester City</td>\n",
              "    </tr>\n",
              "    <tr>\n",
              "      <th>1</th>\n",
              "      <td>3</td>\n",
              "      <td>2023-08-19</td>\n",
              "      <td>20:00</td>\n",
              "      <td>Premier League</td>\n",
              "      <td>Matchweek 2</td>\n",
              "      <td>Sat</td>\n",
              "      <td>Home</td>\n",
              "      <td>W</td>\n",
              "      <td>1.0</td>\n",
              "      <td>0.0</td>\n",
              "      <td>...</td>\n",
              "      <td>0.3</td>\n",
              "      <td>59.0</td>\n",
              "      <td>53419.0</td>\n",
              "      <td>Kyle Walker</td>\n",
              "      <td>4-2-3-1</td>\n",
              "      <td>Robert Jones</td>\n",
              "      <td>Match Report</td>\n",
              "      <td>NaN</td>\n",
              "      <td>Manchester City</td>\n",
              "      <td>Newcastle Utd vs Manchester City</td>\n",
              "    </tr>\n",
              "    <tr>\n",
              "      <th>2</th>\n",
              "      <td>4</td>\n",
              "      <td>2023-08-27</td>\n",
              "      <td>14:00</td>\n",
              "      <td>Premier League</td>\n",
              "      <td>Matchweek 3</td>\n",
              "      <td>Sun</td>\n",
              "      <td>Away</td>\n",
              "      <td>W</td>\n",
              "      <td>2.0</td>\n",
              "      <td>1.0</td>\n",
              "      <td>...</td>\n",
              "      <td>0.7</td>\n",
              "      <td>79.0</td>\n",
              "      <td>31336.0</td>\n",
              "      <td>Kyle Walker</td>\n",
              "      <td>4-2-3-1</td>\n",
              "      <td>Jarred Gillett</td>\n",
              "      <td>Match Report</td>\n",
              "      <td>NaN</td>\n",
              "      <td>Manchester City</td>\n",
              "      <td>Sheffield Utd vs Manchester City</td>\n",
              "    </tr>\n",
              "    <tr>\n",
              "      <th>3</th>\n",
              "      <td>5</td>\n",
              "      <td>2023-09-02</td>\n",
              "      <td>15:00</td>\n",
              "      <td>Premier League</td>\n",
              "      <td>Matchweek 4</td>\n",
              "      <td>Sat</td>\n",
              "      <td>Home</td>\n",
              "      <td>W</td>\n",
              "      <td>5.0</td>\n",
              "      <td>1.0</td>\n",
              "      <td>...</td>\n",
              "      <td>1.4</td>\n",
              "      <td>68.0</td>\n",
              "      <td>52899.0</td>\n",
              "      <td>Kyle Walker</td>\n",
              "      <td>4-2-3-1</td>\n",
              "      <td>Michael Oliver</td>\n",
              "      <td>Match Report</td>\n",
              "      <td>NaN</td>\n",
              "      <td>Manchester City</td>\n",
              "      <td>Fulham vs Manchester City</td>\n",
              "    </tr>\n",
              "    <tr>\n",
              "      <th>4</th>\n",
              "      <td>6</td>\n",
              "      <td>2023-09-16</td>\n",
              "      <td>15:00</td>\n",
              "      <td>Premier League</td>\n",
              "      <td>Matchweek 5</td>\n",
              "      <td>Sat</td>\n",
              "      <td>Away</td>\n",
              "      <td>W</td>\n",
              "      <td>3.0</td>\n",
              "      <td>1.0</td>\n",
              "      <td>...</td>\n",
              "      <td>0.9</td>\n",
              "      <td>68.0</td>\n",
              "      <td>62475.0</td>\n",
              "      <td>Kyle Walker</td>\n",
              "      <td>4-2-3-1</td>\n",
              "      <td>Andy Madley</td>\n",
              "      <td>Match Report</td>\n",
              "      <td>NaN</td>\n",
              "      <td>Manchester City</td>\n",
              "      <td>West Ham vs Manchester City</td>\n",
              "    </tr>\n",
              "  </tbody>\n",
              "</table>\n",
              "<p>5 rows × 22 columns</p>\n",
              "</div>\n",
              "    <div class=\"colab-df-buttons\">\n",
              "\n",
              "  <div class=\"colab-df-container\">\n",
              "    <button class=\"colab-df-convert\" onclick=\"convertToInteractive('df-a393f403-fb48-4910-9da3-6683cc10fb7c')\"\n",
              "            title=\"Convert this dataframe to an interactive table.\"\n",
              "            style=\"display:none;\">\n",
              "\n",
              "  <svg xmlns=\"http://www.w3.org/2000/svg\" height=\"24px\" viewBox=\"0 -960 960 960\">\n",
              "    <path d=\"M120-120v-720h720v720H120Zm60-500h600v-160H180v160Zm220 220h160v-160H400v160Zm0 220h160v-160H400v160ZM180-400h160v-160H180v160Zm440 0h160v-160H620v160ZM180-180h160v-160H180v160Zm440 0h160v-160H620v160Z\"/>\n",
              "  </svg>\n",
              "    </button>\n",
              "\n",
              "  <style>\n",
              "    .colab-df-container {\n",
              "      display:flex;\n",
              "      gap: 12px;\n",
              "    }\n",
              "\n",
              "    .colab-df-convert {\n",
              "      background-color: #E8F0FE;\n",
              "      border: none;\n",
              "      border-radius: 50%;\n",
              "      cursor: pointer;\n",
              "      display: none;\n",
              "      fill: #1967D2;\n",
              "      height: 32px;\n",
              "      padding: 0 0 0 0;\n",
              "      width: 32px;\n",
              "    }\n",
              "\n",
              "    .colab-df-convert:hover {\n",
              "      background-color: #E2EBFA;\n",
              "      box-shadow: 0px 1px 2px rgba(60, 64, 67, 0.3), 0px 1px 3px 1px rgba(60, 64, 67, 0.15);\n",
              "      fill: #174EA6;\n",
              "    }\n",
              "\n",
              "    .colab-df-buttons div {\n",
              "      margin-bottom: 4px;\n",
              "    }\n",
              "\n",
              "    [theme=dark] .colab-df-convert {\n",
              "      background-color: #3B4455;\n",
              "      fill: #D2E3FC;\n",
              "    }\n",
              "\n",
              "    [theme=dark] .colab-df-convert:hover {\n",
              "      background-color: #434B5C;\n",
              "      box-shadow: 0px 1px 3px 1px rgba(0, 0, 0, 0.15);\n",
              "      filter: drop-shadow(0px 1px 2px rgba(0, 0, 0, 0.3));\n",
              "      fill: #FFFFFF;\n",
              "    }\n",
              "  </style>\n",
              "\n",
              "    <script>\n",
              "      const buttonEl =\n",
              "        document.querySelector('#df-a393f403-fb48-4910-9da3-6683cc10fb7c button.colab-df-convert');\n",
              "      buttonEl.style.display =\n",
              "        google.colab.kernel.accessAllowed ? 'block' : 'none';\n",
              "\n",
              "      async function convertToInteractive(key) {\n",
              "        const element = document.querySelector('#df-a393f403-fb48-4910-9da3-6683cc10fb7c');\n",
              "        const dataTable =\n",
              "          await google.colab.kernel.invokeFunction('convertToInteractive',\n",
              "                                                    [key], {});\n",
              "        if (!dataTable) return;\n",
              "\n",
              "        const docLinkHtml = 'Like what you see? Visit the ' +\n",
              "          '<a target=\"_blank\" href=https://colab.research.google.com/notebooks/data_table.ipynb>data table notebook</a>'\n",
              "          + ' to learn more about interactive tables.';\n",
              "        element.innerHTML = '';\n",
              "        dataTable['output_type'] = 'display_data';\n",
              "        await google.colab.output.renderOutput(dataTable, element);\n",
              "        const docLink = document.createElement('div');\n",
              "        docLink.innerHTML = docLinkHtml;\n",
              "        element.appendChild(docLink);\n",
              "      }\n",
              "    </script>\n",
              "  </div>\n",
              "\n",
              "\n",
              "<div id=\"df-dd0625db-2ddd-4bc6-9330-174e9396529f\">\n",
              "  <button class=\"colab-df-quickchart\" onclick=\"quickchart('df-dd0625db-2ddd-4bc6-9330-174e9396529f')\"\n",
              "            title=\"Suggest charts\"\n",
              "            style=\"display:none;\">\n",
              "\n",
              "<svg xmlns=\"http://www.w3.org/2000/svg\" height=\"24px\"viewBox=\"0 0 24 24\"\n",
              "     width=\"24px\">\n",
              "    <g>\n",
              "        <path d=\"M19 3H5c-1.1 0-2 .9-2 2v14c0 1.1.9 2 2 2h14c1.1 0 2-.9 2-2V5c0-1.1-.9-2-2-2zM9 17H7v-7h2v7zm4 0h-2V7h2v10zm4 0h-2v-4h2v4z\"/>\n",
              "    </g>\n",
              "</svg>\n",
              "  </button>\n",
              "\n",
              "<style>\n",
              "  .colab-df-quickchart {\n",
              "      --bg-color: #E8F0FE;\n",
              "      --fill-color: #1967D2;\n",
              "      --hover-bg-color: #E2EBFA;\n",
              "      --hover-fill-color: #174EA6;\n",
              "      --disabled-fill-color: #AAA;\n",
              "      --disabled-bg-color: #DDD;\n",
              "  }\n",
              "\n",
              "  [theme=dark] .colab-df-quickchart {\n",
              "      --bg-color: #3B4455;\n",
              "      --fill-color: #D2E3FC;\n",
              "      --hover-bg-color: #434B5C;\n",
              "      --hover-fill-color: #FFFFFF;\n",
              "      --disabled-bg-color: #3B4455;\n",
              "      --disabled-fill-color: #666;\n",
              "  }\n",
              "\n",
              "  .colab-df-quickchart {\n",
              "    background-color: var(--bg-color);\n",
              "    border: none;\n",
              "    border-radius: 50%;\n",
              "    cursor: pointer;\n",
              "    display: none;\n",
              "    fill: var(--fill-color);\n",
              "    height: 32px;\n",
              "    padding: 0;\n",
              "    width: 32px;\n",
              "  }\n",
              "\n",
              "  .colab-df-quickchart:hover {\n",
              "    background-color: var(--hover-bg-color);\n",
              "    box-shadow: 0 1px 2px rgba(60, 64, 67, 0.3), 0 1px 3px 1px rgba(60, 64, 67, 0.15);\n",
              "    fill: var(--button-hover-fill-color);\n",
              "  }\n",
              "\n",
              "  .colab-df-quickchart-complete:disabled,\n",
              "  .colab-df-quickchart-complete:disabled:hover {\n",
              "    background-color: var(--disabled-bg-color);\n",
              "    fill: var(--disabled-fill-color);\n",
              "    box-shadow: none;\n",
              "  }\n",
              "\n",
              "  .colab-df-spinner {\n",
              "    border: 2px solid var(--fill-color);\n",
              "    border-color: transparent;\n",
              "    border-bottom-color: var(--fill-color);\n",
              "    animation:\n",
              "      spin 1s steps(1) infinite;\n",
              "  }\n",
              "\n",
              "  @keyframes spin {\n",
              "    0% {\n",
              "      border-color: transparent;\n",
              "      border-bottom-color: var(--fill-color);\n",
              "      border-left-color: var(--fill-color);\n",
              "    }\n",
              "    20% {\n",
              "      border-color: transparent;\n",
              "      border-left-color: var(--fill-color);\n",
              "      border-top-color: var(--fill-color);\n",
              "    }\n",
              "    30% {\n",
              "      border-color: transparent;\n",
              "      border-left-color: var(--fill-color);\n",
              "      border-top-color: var(--fill-color);\n",
              "      border-right-color: var(--fill-color);\n",
              "    }\n",
              "    40% {\n",
              "      border-color: transparent;\n",
              "      border-right-color: var(--fill-color);\n",
              "      border-top-color: var(--fill-color);\n",
              "    }\n",
              "    60% {\n",
              "      border-color: transparent;\n",
              "      border-right-color: var(--fill-color);\n",
              "    }\n",
              "    80% {\n",
              "      border-color: transparent;\n",
              "      border-right-color: var(--fill-color);\n",
              "      border-bottom-color: var(--fill-color);\n",
              "    }\n",
              "    90% {\n",
              "      border-color: transparent;\n",
              "      border-bottom-color: var(--fill-color);\n",
              "    }\n",
              "  }\n",
              "</style>\n",
              "\n",
              "  <script>\n",
              "    async function quickchart(key) {\n",
              "      const quickchartButtonEl =\n",
              "        document.querySelector('#' + key + ' button');\n",
              "      quickchartButtonEl.disabled = true;  // To prevent multiple clicks.\n",
              "      quickchartButtonEl.classList.add('colab-df-spinner');\n",
              "      try {\n",
              "        const charts = await google.colab.kernel.invokeFunction(\n",
              "            'suggestCharts', [key], {});\n",
              "      } catch (error) {\n",
              "        console.error('Error during call to suggestCharts:', error);\n",
              "      }\n",
              "      quickchartButtonEl.classList.remove('colab-df-spinner');\n",
              "      quickchartButtonEl.classList.add('colab-df-quickchart-complete');\n",
              "    }\n",
              "    (() => {\n",
              "      let quickchartButtonEl =\n",
              "        document.querySelector('#df-dd0625db-2ddd-4bc6-9330-174e9396529f button');\n",
              "      quickchartButtonEl.style.display =\n",
              "        google.colab.kernel.accessAllowed ? 'block' : 'none';\n",
              "    })();\n",
              "  </script>\n",
              "</div>\n",
              "\n",
              "    </div>\n",
              "  </div>\n"
            ],
            "application/vnd.google.colaboratory.intrinsic+json": {
              "type": "dataframe",
              "variable_name": "new_df"
            }
          },
          "metadata": {},
          "execution_count": 166
        }
      ]
    },
    {
      "cell_type": "code",
      "source": [
        "new_df.shape"
      ],
      "metadata": {
        "colab": {
          "base_uri": "https://localhost:8080/"
        },
        "id": "kUwbJEZZe-n2",
        "outputId": "c05cd20d-9c14-4e80-cb66-10e73e506311"
      },
      "execution_count": 167,
      "outputs": [
        {
          "output_type": "execute_result",
          "data": {
            "text/plain": [
              "(355, 22)"
            ]
          },
          "metadata": {},
          "execution_count": 167
        }
      ]
    },
    {
      "cell_type": "code",
      "source": [],
      "metadata": {
        "id": "2N4w2hOvbb08"
      },
      "execution_count": 167,
      "outputs": []
    },
    {
      "cell_type": "code",
      "source": [
        "new_df.isnull().sum()"
      ],
      "metadata": {
        "colab": {
          "base_uri": "https://localhost:8080/"
        },
        "id": "_1jK8JSFaWUn",
        "outputId": "d1cf23f8-0dc4-4ea0-f7a5-caf437723735"
      },
      "execution_count": 168,
      "outputs": [
        {
          "output_type": "execute_result",
          "data": {
            "text/plain": [
              "Unnamed: 0        0\n",
              "date              0\n",
              "time              0\n",
              "comp              0\n",
              "round             0\n",
              "day               0\n",
              "venue             0\n",
              "result           33\n",
              "gf               33\n",
              "ga               33\n",
              "opponent          0\n",
              "xg               33\n",
              "xga              33\n",
              "poss             33\n",
              "attendance       36\n",
              "captain          33\n",
              "formation        33\n",
              "referee          33\n",
              "match report      0\n",
              "notes           355\n",
              "team              0\n",
              "Matchup           0\n",
              "dtype: int64"
            ]
          },
          "metadata": {},
          "execution_count": 168
        }
      ]
    },
    {
      "cell_type": "code",
      "source": [
        "new_df = new_df.dropna(subset=['result'])"
      ],
      "metadata": {
        "id": "XpW5AUgydjac"
      },
      "execution_count": 169,
      "outputs": []
    },
    {
      "cell_type": "code",
      "source": [
        "new_df.isnull().sum()"
      ],
      "metadata": {
        "colab": {
          "base_uri": "https://localhost:8080/"
        },
        "id": "NyfR55JW8Pxg",
        "outputId": "3389d90c-84d9-456a-947e-bddb7fe2a21e"
      },
      "execution_count": 170,
      "outputs": [
        {
          "output_type": "execute_result",
          "data": {
            "text/plain": [
              "Unnamed: 0        0\n",
              "date              0\n",
              "time              0\n",
              "comp              0\n",
              "round             0\n",
              "day               0\n",
              "venue             0\n",
              "result            0\n",
              "gf                0\n",
              "ga                0\n",
              "opponent          0\n",
              "xg                0\n",
              "xga               0\n",
              "poss              0\n",
              "attendance        3\n",
              "captain           0\n",
              "formation         0\n",
              "referee           0\n",
              "match report      0\n",
              "notes           322\n",
              "team              0\n",
              "Matchup           0\n",
              "dtype: int64"
            ]
          },
          "metadata": {},
          "execution_count": 170
        }
      ]
    },
    {
      "cell_type": "code",
      "source": [
        "new_df.shape"
      ],
      "metadata": {
        "colab": {
          "base_uri": "https://localhost:8080/"
        },
        "id": "iqNh37ObevwY",
        "outputId": "be82ad38-5589-438b-f06a-f50748fe3efc"
      },
      "execution_count": 171,
      "outputs": [
        {
          "output_type": "execute_result",
          "data": {
            "text/plain": [
              "(322, 22)"
            ]
          },
          "metadata": {},
          "execution_count": 171
        }
      ]
    },
    {
      "cell_type": "code",
      "source": [
        "#  58 Matches has to be played from today\n",
        "# So here we have 322 data (322 matches played this season)\n",
        "380-58"
      ],
      "metadata": {
        "colab": {
          "base_uri": "https://localhost:8080/"
        },
        "id": "-ZMtCC5w8l8z",
        "outputId": "3d062288-97f3-4b99-ba18-38eca632633e"
      },
      "execution_count": 172,
      "outputs": [
        {
          "output_type": "execute_result",
          "data": {
            "text/plain": [
              "322"
            ]
          },
          "metadata": {},
          "execution_count": 172
        }
      ]
    },
    {
      "cell_type": "code",
      "source": [
        "new_df = new_df.drop(columns = 'notes')"
      ],
      "metadata": {
        "id": "JByoFGFgdWak"
      },
      "execution_count": 173,
      "outputs": []
    },
    {
      "cell_type": "code",
      "source": [
        "new_df['team'] = new_df['team'].str.lower()\n",
        "new_df['Matchup'] = new_df['Matchup'].str.lower()\n",
        "new_df['opponent'] = new_df['opponent'].str.lower()"
      ],
      "metadata": {
        "id": "PSo85-hoUufF"
      },
      "execution_count": 174,
      "outputs": []
    },
    {
      "cell_type": "code",
      "source": [
        "new_df['venue']= new_df['venue'].map({'Home':1,'Away':0})"
      ],
      "metadata": {
        "id": "5zTOoECqVOyS"
      },
      "execution_count": 175,
      "outputs": []
    },
    {
      "cell_type": "code",
      "source": [
        "new_df['result']= new_df['result'].map({'W':3,'D':1,'L':0})"
      ],
      "metadata": {
        "id": "dgYp6mgYouaO"
      },
      "execution_count": 176,
      "outputs": []
    },
    {
      "cell_type": "code",
      "source": [
        "new_df['day'].value_counts()"
      ],
      "metadata": {
        "colab": {
          "base_uri": "https://localhost:8080/"
        },
        "id": "vk58ipdS9DT2",
        "outputId": "6dbdcc71-3548-4673-e059-340ebd559527"
      },
      "execution_count": 177,
      "outputs": [
        {
          "output_type": "execute_result",
          "data": {
            "text/plain": [
              "day\n",
              "Sat    172\n",
              "Sun     81\n",
              "Tue     20\n",
              "Wed     17\n",
              "Mon     15\n",
              "Thu      9\n",
              "Fri      8\n",
              "Name: count, dtype: int64"
            ]
          },
          "metadata": {},
          "execution_count": 177
        }
      ]
    },
    {
      "cell_type": "code",
      "source": [],
      "metadata": {
        "id": "sbny2yBl9KIa"
      },
      "execution_count": 177,
      "outputs": []
    },
    {
      "cell_type": "code",
      "source": [
        "new_df['day'] = new_df['day'].astype(\"category\").cat.codes"
      ],
      "metadata": {
        "id": "hZaw1XTyXsHa"
      },
      "execution_count": 178,
      "outputs": []
    },
    {
      "cell_type": "markdown",
      "source": [
        "0 - friday\n",
        "\n",
        "1 - saturday\n",
        "\n",
        "2 - sunday\n",
        "\n",
        ".\n",
        ".\n",
        ".\n",
        "\n"
      ],
      "metadata": {
        "id": "pwLlXk_O7IS8"
      }
    },
    {
      "cell_type": "code",
      "source": [
        "new_df.head(2)"
      ],
      "metadata": {
        "colab": {
          "base_uri": "https://localhost:8080/",
          "height": 265
        },
        "id": "eXf0kSlNpBL9",
        "outputId": "493bf020-a2b9-47cf-d822-49a6d5c6aca2"
      },
      "execution_count": 179,
      "outputs": [
        {
          "output_type": "execute_result",
          "data": {
            "text/plain": [
              "   Unnamed: 0       date   time            comp        round  day  venue  \\\n",
              "0           1 2023-08-11  20:00  Premier League  Matchweek 1    0      0   \n",
              "1           3 2023-08-19  20:00  Premier League  Matchweek 2    2      1   \n",
              "\n",
              "   result   gf   ga  ...   xg  xga  poss  attendance          captain  \\\n",
              "0       3  3.0  0.0  ...  1.9  0.3  65.0     21572.0  Kevin De Bruyne   \n",
              "1       3  1.0  0.0  ...  1.0  0.3  59.0     53419.0      Kyle Walker   \n",
              "\n",
              "  formation       referee  match report             team  \\\n",
              "0   4-2-3-1  Craig Pawson  Match Report  manchester city   \n",
              "1   4-2-3-1  Robert Jones  Match Report  manchester city   \n",
              "\n",
              "                            Matchup  \n",
              "0        burnley vs manchester city  \n",
              "1  newcastle utd vs manchester city  \n",
              "\n",
              "[2 rows x 21 columns]"
            ],
            "text/html": [
              "\n",
              "  <div id=\"df-330da254-bf80-4a25-944f-ce6d95b82c52\" class=\"colab-df-container\">\n",
              "    <div>\n",
              "<style scoped>\n",
              "    .dataframe tbody tr th:only-of-type {\n",
              "        vertical-align: middle;\n",
              "    }\n",
              "\n",
              "    .dataframe tbody tr th {\n",
              "        vertical-align: top;\n",
              "    }\n",
              "\n",
              "    .dataframe thead th {\n",
              "        text-align: right;\n",
              "    }\n",
              "</style>\n",
              "<table border=\"1\" class=\"dataframe\">\n",
              "  <thead>\n",
              "    <tr style=\"text-align: right;\">\n",
              "      <th></th>\n",
              "      <th>Unnamed: 0</th>\n",
              "      <th>date</th>\n",
              "      <th>time</th>\n",
              "      <th>comp</th>\n",
              "      <th>round</th>\n",
              "      <th>day</th>\n",
              "      <th>venue</th>\n",
              "      <th>result</th>\n",
              "      <th>gf</th>\n",
              "      <th>ga</th>\n",
              "      <th>...</th>\n",
              "      <th>xg</th>\n",
              "      <th>xga</th>\n",
              "      <th>poss</th>\n",
              "      <th>attendance</th>\n",
              "      <th>captain</th>\n",
              "      <th>formation</th>\n",
              "      <th>referee</th>\n",
              "      <th>match report</th>\n",
              "      <th>team</th>\n",
              "      <th>Matchup</th>\n",
              "    </tr>\n",
              "  </thead>\n",
              "  <tbody>\n",
              "    <tr>\n",
              "      <th>0</th>\n",
              "      <td>1</td>\n",
              "      <td>2023-08-11</td>\n",
              "      <td>20:00</td>\n",
              "      <td>Premier League</td>\n",
              "      <td>Matchweek 1</td>\n",
              "      <td>0</td>\n",
              "      <td>0</td>\n",
              "      <td>3</td>\n",
              "      <td>3.0</td>\n",
              "      <td>0.0</td>\n",
              "      <td>...</td>\n",
              "      <td>1.9</td>\n",
              "      <td>0.3</td>\n",
              "      <td>65.0</td>\n",
              "      <td>21572.0</td>\n",
              "      <td>Kevin De Bruyne</td>\n",
              "      <td>4-2-3-1</td>\n",
              "      <td>Craig Pawson</td>\n",
              "      <td>Match Report</td>\n",
              "      <td>manchester city</td>\n",
              "      <td>burnley vs manchester city</td>\n",
              "    </tr>\n",
              "    <tr>\n",
              "      <th>1</th>\n",
              "      <td>3</td>\n",
              "      <td>2023-08-19</td>\n",
              "      <td>20:00</td>\n",
              "      <td>Premier League</td>\n",
              "      <td>Matchweek 2</td>\n",
              "      <td>2</td>\n",
              "      <td>1</td>\n",
              "      <td>3</td>\n",
              "      <td>1.0</td>\n",
              "      <td>0.0</td>\n",
              "      <td>...</td>\n",
              "      <td>1.0</td>\n",
              "      <td>0.3</td>\n",
              "      <td>59.0</td>\n",
              "      <td>53419.0</td>\n",
              "      <td>Kyle Walker</td>\n",
              "      <td>4-2-3-1</td>\n",
              "      <td>Robert Jones</td>\n",
              "      <td>Match Report</td>\n",
              "      <td>manchester city</td>\n",
              "      <td>newcastle utd vs manchester city</td>\n",
              "    </tr>\n",
              "  </tbody>\n",
              "</table>\n",
              "<p>2 rows × 21 columns</p>\n",
              "</div>\n",
              "    <div class=\"colab-df-buttons\">\n",
              "\n",
              "  <div class=\"colab-df-container\">\n",
              "    <button class=\"colab-df-convert\" onclick=\"convertToInteractive('df-330da254-bf80-4a25-944f-ce6d95b82c52')\"\n",
              "            title=\"Convert this dataframe to an interactive table.\"\n",
              "            style=\"display:none;\">\n",
              "\n",
              "  <svg xmlns=\"http://www.w3.org/2000/svg\" height=\"24px\" viewBox=\"0 -960 960 960\">\n",
              "    <path d=\"M120-120v-720h720v720H120Zm60-500h600v-160H180v160Zm220 220h160v-160H400v160Zm0 220h160v-160H400v160ZM180-400h160v-160H180v160Zm440 0h160v-160H620v160ZM180-180h160v-160H180v160Zm440 0h160v-160H620v160Z\"/>\n",
              "  </svg>\n",
              "    </button>\n",
              "\n",
              "  <style>\n",
              "    .colab-df-container {\n",
              "      display:flex;\n",
              "      gap: 12px;\n",
              "    }\n",
              "\n",
              "    .colab-df-convert {\n",
              "      background-color: #E8F0FE;\n",
              "      border: none;\n",
              "      border-radius: 50%;\n",
              "      cursor: pointer;\n",
              "      display: none;\n",
              "      fill: #1967D2;\n",
              "      height: 32px;\n",
              "      padding: 0 0 0 0;\n",
              "      width: 32px;\n",
              "    }\n",
              "\n",
              "    .colab-df-convert:hover {\n",
              "      background-color: #E2EBFA;\n",
              "      box-shadow: 0px 1px 2px rgba(60, 64, 67, 0.3), 0px 1px 3px 1px rgba(60, 64, 67, 0.15);\n",
              "      fill: #174EA6;\n",
              "    }\n",
              "\n",
              "    .colab-df-buttons div {\n",
              "      margin-bottom: 4px;\n",
              "    }\n",
              "\n",
              "    [theme=dark] .colab-df-convert {\n",
              "      background-color: #3B4455;\n",
              "      fill: #D2E3FC;\n",
              "    }\n",
              "\n",
              "    [theme=dark] .colab-df-convert:hover {\n",
              "      background-color: #434B5C;\n",
              "      box-shadow: 0px 1px 3px 1px rgba(0, 0, 0, 0.15);\n",
              "      filter: drop-shadow(0px 1px 2px rgba(0, 0, 0, 0.3));\n",
              "      fill: #FFFFFF;\n",
              "    }\n",
              "  </style>\n",
              "\n",
              "    <script>\n",
              "      const buttonEl =\n",
              "        document.querySelector('#df-330da254-bf80-4a25-944f-ce6d95b82c52 button.colab-df-convert');\n",
              "      buttonEl.style.display =\n",
              "        google.colab.kernel.accessAllowed ? 'block' : 'none';\n",
              "\n",
              "      async function convertToInteractive(key) {\n",
              "        const element = document.querySelector('#df-330da254-bf80-4a25-944f-ce6d95b82c52');\n",
              "        const dataTable =\n",
              "          await google.colab.kernel.invokeFunction('convertToInteractive',\n",
              "                                                    [key], {});\n",
              "        if (!dataTable) return;\n",
              "\n",
              "        const docLinkHtml = 'Like what you see? Visit the ' +\n",
              "          '<a target=\"_blank\" href=https://colab.research.google.com/notebooks/data_table.ipynb>data table notebook</a>'\n",
              "          + ' to learn more about interactive tables.';\n",
              "        element.innerHTML = '';\n",
              "        dataTable['output_type'] = 'display_data';\n",
              "        await google.colab.output.renderOutput(dataTable, element);\n",
              "        const docLink = document.createElement('div');\n",
              "        docLink.innerHTML = docLinkHtml;\n",
              "        element.appendChild(docLink);\n",
              "      }\n",
              "    </script>\n",
              "  </div>\n",
              "\n",
              "\n",
              "<div id=\"df-891fe417-92dc-496c-823c-0811c40c3861\">\n",
              "  <button class=\"colab-df-quickchart\" onclick=\"quickchart('df-891fe417-92dc-496c-823c-0811c40c3861')\"\n",
              "            title=\"Suggest charts\"\n",
              "            style=\"display:none;\">\n",
              "\n",
              "<svg xmlns=\"http://www.w3.org/2000/svg\" height=\"24px\"viewBox=\"0 0 24 24\"\n",
              "     width=\"24px\">\n",
              "    <g>\n",
              "        <path d=\"M19 3H5c-1.1 0-2 .9-2 2v14c0 1.1.9 2 2 2h14c1.1 0 2-.9 2-2V5c0-1.1-.9-2-2-2zM9 17H7v-7h2v7zm4 0h-2V7h2v10zm4 0h-2v-4h2v4z\"/>\n",
              "    </g>\n",
              "</svg>\n",
              "  </button>\n",
              "\n",
              "<style>\n",
              "  .colab-df-quickchart {\n",
              "      --bg-color: #E8F0FE;\n",
              "      --fill-color: #1967D2;\n",
              "      --hover-bg-color: #E2EBFA;\n",
              "      --hover-fill-color: #174EA6;\n",
              "      --disabled-fill-color: #AAA;\n",
              "      --disabled-bg-color: #DDD;\n",
              "  }\n",
              "\n",
              "  [theme=dark] .colab-df-quickchart {\n",
              "      --bg-color: #3B4455;\n",
              "      --fill-color: #D2E3FC;\n",
              "      --hover-bg-color: #434B5C;\n",
              "      --hover-fill-color: #FFFFFF;\n",
              "      --disabled-bg-color: #3B4455;\n",
              "      --disabled-fill-color: #666;\n",
              "  }\n",
              "\n",
              "  .colab-df-quickchart {\n",
              "    background-color: var(--bg-color);\n",
              "    border: none;\n",
              "    border-radius: 50%;\n",
              "    cursor: pointer;\n",
              "    display: none;\n",
              "    fill: var(--fill-color);\n",
              "    height: 32px;\n",
              "    padding: 0;\n",
              "    width: 32px;\n",
              "  }\n",
              "\n",
              "  .colab-df-quickchart:hover {\n",
              "    background-color: var(--hover-bg-color);\n",
              "    box-shadow: 0 1px 2px rgba(60, 64, 67, 0.3), 0 1px 3px 1px rgba(60, 64, 67, 0.15);\n",
              "    fill: var(--button-hover-fill-color);\n",
              "  }\n",
              "\n",
              "  .colab-df-quickchart-complete:disabled,\n",
              "  .colab-df-quickchart-complete:disabled:hover {\n",
              "    background-color: var(--disabled-bg-color);\n",
              "    fill: var(--disabled-fill-color);\n",
              "    box-shadow: none;\n",
              "  }\n",
              "\n",
              "  .colab-df-spinner {\n",
              "    border: 2px solid var(--fill-color);\n",
              "    border-color: transparent;\n",
              "    border-bottom-color: var(--fill-color);\n",
              "    animation:\n",
              "      spin 1s steps(1) infinite;\n",
              "  }\n",
              "\n",
              "  @keyframes spin {\n",
              "    0% {\n",
              "      border-color: transparent;\n",
              "      border-bottom-color: var(--fill-color);\n",
              "      border-left-color: var(--fill-color);\n",
              "    }\n",
              "    20% {\n",
              "      border-color: transparent;\n",
              "      border-left-color: var(--fill-color);\n",
              "      border-top-color: var(--fill-color);\n",
              "    }\n",
              "    30% {\n",
              "      border-color: transparent;\n",
              "      border-left-color: var(--fill-color);\n",
              "      border-top-color: var(--fill-color);\n",
              "      border-right-color: var(--fill-color);\n",
              "    }\n",
              "    40% {\n",
              "      border-color: transparent;\n",
              "      border-right-color: var(--fill-color);\n",
              "      border-top-color: var(--fill-color);\n",
              "    }\n",
              "    60% {\n",
              "      border-color: transparent;\n",
              "      border-right-color: var(--fill-color);\n",
              "    }\n",
              "    80% {\n",
              "      border-color: transparent;\n",
              "      border-right-color: var(--fill-color);\n",
              "      border-bottom-color: var(--fill-color);\n",
              "    }\n",
              "    90% {\n",
              "      border-color: transparent;\n",
              "      border-bottom-color: var(--fill-color);\n",
              "    }\n",
              "  }\n",
              "</style>\n",
              "\n",
              "  <script>\n",
              "    async function quickchart(key) {\n",
              "      const quickchartButtonEl =\n",
              "        document.querySelector('#' + key + ' button');\n",
              "      quickchartButtonEl.disabled = true;  // To prevent multiple clicks.\n",
              "      quickchartButtonEl.classList.add('colab-df-spinner');\n",
              "      try {\n",
              "        const charts = await google.colab.kernel.invokeFunction(\n",
              "            'suggestCharts', [key], {});\n",
              "      } catch (error) {\n",
              "        console.error('Error during call to suggestCharts:', error);\n",
              "      }\n",
              "      quickchartButtonEl.classList.remove('colab-df-spinner');\n",
              "      quickchartButtonEl.classList.add('colab-df-quickchart-complete');\n",
              "    }\n",
              "    (() => {\n",
              "      let quickchartButtonEl =\n",
              "        document.querySelector('#df-891fe417-92dc-496c-823c-0811c40c3861 button');\n",
              "      quickchartButtonEl.style.display =\n",
              "        google.colab.kernel.accessAllowed ? 'block' : 'none';\n",
              "    })();\n",
              "  </script>\n",
              "</div>\n",
              "\n",
              "    </div>\n",
              "  </div>\n"
            ],
            "application/vnd.google.colaboratory.intrinsic+json": {
              "type": "dataframe",
              "variable_name": "new_df"
            }
          },
          "metadata": {},
          "execution_count": 179
        }
      ]
    },
    {
      "cell_type": "code",
      "source": [
        "new_df['team_code'] = new_df['team'].astype(\"category\").cat.codes"
      ],
      "metadata": {
        "id": "oJYvu1AD-DIN"
      },
      "execution_count": 180,
      "outputs": []
    },
    {
      "cell_type": "code",
      "source": [
        "new_df['ref_code'] = new_df['referee'].astype(\"category\").cat.codes"
      ],
      "metadata": {
        "id": "8djkKzkd-iKh"
      },
      "execution_count": 181,
      "outputs": []
    },
    {
      "cell_type": "code",
      "source": [
        "new_df['opp_code'] = new_df['opponent'].astype(\"category\").cat.codes"
      ],
      "metadata": {
        "id": "QyjmFmBH_BNB"
      },
      "execution_count": 182,
      "outputs": []
    },
    {
      "cell_type": "code",
      "source": [
        "new_df.to_csv('new.csv')"
      ],
      "metadata": {
        "id": "ckQZDQ6xFgXb"
      },
      "execution_count": 183,
      "outputs": []
    },
    {
      "cell_type": "markdown",
      "source": [
        "MODEL SELECTION AND DEVELOPMENT\n"
      ],
      "metadata": {
        "id": "fGtBEGdM_Pc9"
      }
    },
    {
      "cell_type": "code",
      "source": [],
      "metadata": {
        "id": "L-x8rAyAFfnl"
      },
      "execution_count": 183,
      "outputs": []
    },
    {
      "cell_type": "code",
      "source": [
        "from sklearn.model_selection import train_test_split\n",
        "\n",
        "x = new_df[[ 'day', 'venue', 'gf', 'ga', 'xg', 'xga', 'team_code', 'opp_code','ref_code']]\n",
        "y = new_df['result']\n",
        "\n",
        "x_train, x_test, y_train, y_test = train_test_split(x, y, test_size = 0.3, random_state=42)"
      ],
      "metadata": {
        "id": "jm-OkKML_Oi0"
      },
      "execution_count": 184,
      "outputs": []
    },
    {
      "cell_type": "code",
      "source": [
        "\n",
        "from sklearn.naive_bayes import GaussianNB\n",
        "from sklearn.metrics import accuracy_score, classification_report\n",
        "\n",
        "\n",
        "\n",
        "nb_classifier = GaussianNB()\n",
        "\n",
        "nb_classifier.fit(x_train, y_train)\n",
        "\n",
        "y_pred = nb_classifier.predict(x_test)\n",
        "\n",
        "accuracy = accuracy_score(y_test, y_pred)\n",
        "print(f\"Accuracy: {accuracy:.2f}\")\n",
        "\n",
        "print(\"Classification Report:\\n\", classification_report(y_test, y_pred))"
      ],
      "metadata": {
        "colab": {
          "base_uri": "https://localhost:8080/"
        },
        "id": "4miqHWlvACZ2",
        "outputId": "8f1177cf-b836-413c-f7c3-c1223d8dc652"
      },
      "execution_count": 185,
      "outputs": [
        {
          "output_type": "stream",
          "name": "stdout",
          "text": [
            "Accuracy: 0.72\n",
            "Classification Report:\n",
            "               precision    recall  f1-score   support\n",
            "\n",
            "           0       1.00      0.65      0.79        23\n",
            "           1       0.30      0.50      0.37        16\n",
            "           3       0.85      0.81      0.83        58\n",
            "\n",
            "    accuracy                           0.72        97\n",
            "   macro avg       0.72      0.65      0.66        97\n",
            "weighted avg       0.80      0.72      0.75        97\n",
            "\n"
          ]
        }
      ]
    },
    {
      "cell_type": "code",
      "source": [
        "\n",
        "from sklearn.linear_model import LinearRegression\n",
        "from sklearn.metrics import mean_squared_error, r2_score\n",
        "\n",
        "li_reg = LinearRegression()\n",
        "\n",
        "li_reg.fit(x_train, y_train)\n",
        "\n",
        "y_pred_lr = li_reg.predict(x_test)\n",
        "\n",
        "mse = mean_squared_error(y_test, y_pred)\n",
        "\n",
        "r2 = r2_score(y_test, y_pred)\n",
        "\n",
        "print(f\"Mean Squared Error: {mse:.2f}\")\n",
        "print(f\"R-squared: {r2:.2f}\")\n"
      ],
      "metadata": {
        "colab": {
          "base_uri": "https://localhost:8080/"
        },
        "id": "9QiLFSOZBKFB",
        "outputId": "385af210-8ba9-4765-a778-390d51b1d0ee"
      },
      "execution_count": 186,
      "outputs": [
        {
          "output_type": "stream",
          "name": "stdout",
          "text": [
            "Mean Squared Error: 0.87\n",
            "R-squared: 0.49\n"
          ]
        }
      ]
    },
    {
      "cell_type": "code",
      "source": [
        "from sklearn.svm import SVC\n",
        "from sklearn.metrics import accuracy_score, classification_report\n",
        "\n",
        "svm_model = SVC(kernel='linear')\n",
        "svm_model.fit(x_train, y_train)\n",
        "\n",
        "y_pred_svm = svm_model.predict(x_test)\n",
        "\n",
        "accuracy = accuracy_score(y_test, y_pred_svm)\n",
        "print(f\"Accuracy: {accuracy:.2f}\")\n",
        "\n",
        "print(\"Classification Report:\\n\", classification_report(y_test, y_pred_svm))"
      ],
      "metadata": {
        "colab": {
          "base_uri": "https://localhost:8080/"
        },
        "id": "Ay_jJB5XCNVg",
        "outputId": "73ef262f-e5eb-4bfd-881b-13bf77342efb"
      },
      "execution_count": 187,
      "outputs": [
        {
          "output_type": "stream",
          "name": "stdout",
          "text": [
            "Accuracy: 1.00\n",
            "Classification Report:\n",
            "               precision    recall  f1-score   support\n",
            "\n",
            "           0       1.00      1.00      1.00        23\n",
            "           1       1.00      1.00      1.00        16\n",
            "           3       1.00      1.00      1.00        58\n",
            "\n",
            "    accuracy                           1.00        97\n",
            "   macro avg       1.00      1.00      1.00        97\n",
            "weighted avg       1.00      1.00      1.00        97\n",
            "\n"
          ]
        }
      ]
    },
    {
      "cell_type": "code",
      "source": [
        "from sklearn.ensemble import RandomForestClassifier\n",
        "\n",
        "rf_classifier = RandomForestClassifier(n_estimators=100, random_state=42)\n",
        "rf_classifier.fit(x_train, y_train)\n",
        "\n",
        "y_pred = rf_classifier.predict(x_test)\n",
        "\n",
        "accuracy = accuracy_score(y_test, y_pred)\n",
        "print(f\"Accuracy: {accuracy:.2f}\")\n",
        "\n",
        "print(\"Classification Report:\\n\", classification_report(y_test, y_pred))"
      ],
      "metadata": {
        "colab": {
          "base_uri": "https://localhost:8080/"
        },
        "id": "7ng4xY9LEbVw",
        "outputId": "3e6e1ce6-bebb-46d8-bce3-3505deacd123"
      },
      "execution_count": 188,
      "outputs": [
        {
          "output_type": "stream",
          "name": "stdout",
          "text": [
            "Accuracy: 0.97\n",
            "Classification Report:\n",
            "               precision    recall  f1-score   support\n",
            "\n",
            "           0       1.00      0.87      0.93        23\n",
            "           1       0.84      1.00      0.91        16\n",
            "           3       1.00      1.00      1.00        58\n",
            "\n",
            "    accuracy                           0.97        97\n",
            "   macro avg       0.95      0.96      0.95        97\n",
            "weighted avg       0.97      0.97      0.97        97\n",
            "\n"
          ]
        }
      ]
    }
  ]
}